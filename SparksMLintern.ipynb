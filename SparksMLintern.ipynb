{
  "nbformat": 4,
  "nbformat_minor": 0,
  "metadata": {
    "colab": {
      "name": "SparksMLintern.ipynb",
      "provenance": [],
      "collapsed_sections": [],
      "authorship_tag": "ABX9TyN/OKz7VengygkGph8ELhll",
      "include_colab_link": true
    },
    "kernelspec": {
      "name": "python3",
      "display_name": "Python 3"
    }
  },
  "cells": [
    {
      "cell_type": "markdown",
      "metadata": {
        "id": "view-in-github",
        "colab_type": "text"
      },
      "source": [
        "<a href=\"https://colab.research.google.com/github/Akshay-Nagle/SparksFoundation/blob/main/SparksMLintern.ipynb\" target=\"_parent\"><img src=\"https://colab.research.google.com/assets/colab-badge.svg\" alt=\"Open In Colab\"/></a>"
      ]
    },
    {
      "cell_type": "markdown",
      "metadata": {
        "id": "KHyMz0REHW0_"
      },
      "source": [
        "## Author: Akshay Nagle"
      ]
    },
    {
      "cell_type": "markdown",
      "metadata": {
        "id": "peY8t19cHoMR"
      },
      "source": [
        "# **Task : Prediction Using Supervised ML**\r\n",
        "Predict the percentage of a student based on the number of study hours.          \r\n",
        "This is a simple linear regression task as it involves just 2 variables."
      ]
    },
    {
      "cell_type": "markdown",
      "metadata": {
        "id": "NmfQx8UZIWS8"
      },
      "source": [
        "\r\n",
        "\r\n",
        "### **1.   Importing Libraries**"
      ]
    },
    {
      "cell_type": "code",
      "metadata": {
        "id": "_tz2mudBw5lc"
      },
      "source": [
        "# Importing all libraries required in this notebook\r\n",
        "import numpy as np \r\n",
        "import pandas as pd \r\n",
        "import seaborn as sns \r\n",
        "import matplotlib.pyplot as plt \r\n",
        "from sklearn import preprocessing, svm \r\n",
        "from sklearn.model_selection import train_test_split \r\n",
        "from sklearn.linear_model import LinearRegression\r\n",
        "%matplotlib inline"
      ],
      "execution_count": null,
      "outputs": []
    },
    {
      "cell_type": "markdown",
      "metadata": {
        "id": "O28Rb4AzIwsw"
      },
      "source": [
        "## **2.   Loading Data**"
      ]
    },
    {
      "cell_type": "code",
      "metadata": {
        "id": "z8p0ChyVxXTm"
      },
      "source": [
        "# Reading data from remote link\r\n",
        "url = \"http://bit.ly/w-data\"\r\n",
        "s_data = pd.read_csv(url)\r\n",
        "print(\"Data imported successfully\")\r\n",
        "\r\n",
        "s_data.head()"
      ],
      "execution_count": null,
      "outputs": []
    },
    {
      "cell_type": "markdown",
      "metadata": {
        "id": "4gB36d1FJID3"
      },
      "source": [
        "## **3.  Data Vizualisation**\r\n",
        "Let's plot our data points on 2-D graph and see if we can manually find any relationship between the data. We can create the plot with the following script:"
      ]
    },
    {
      "cell_type": "code",
      "metadata": {
        "id": "SkCvRBNAyfcM"
      },
      "source": [
        "# Plotting the distribution of scores\r\n",
        "s_data.plot(x='Hours', y='Scores', style='o')  \r\n",
        "plt.title('Hours vs Percentage')    \r\n",
        "plt.xlabel('Hours Studied')             # x-axis\r\n",
        "plt.ylabel('Percentage Score')          # y-axis\r\n",
        "plt.show()"
      ],
      "execution_count": null,
      "outputs": []
    },
    {
      "cell_type": "markdown",
      "metadata": {
        "id": "M-YnbnBQHNJ_"
      },
      "source": [
        "## **4. Preparing Data**\r\n",
        "Let us divide the data into \"attributes\" (inputs) and \"labels\" (outputs)."
      ]
    },
    {
      "cell_type": "code",
      "metadata": {
        "id": "faKNsp4AyjUx"
      },
      "source": [
        "X = s_data.iloc[:, :-1].values         #attributes\r\n",
        "y = s_data.iloc[:, 1].values        #labels\r\n"
      ],
      "execution_count": null,
      "outputs": []
    },
    {
      "cell_type": "markdown",
      "metadata": {
        "id": "APAQECmpLCQI"
      },
      "source": [
        "The next step is to split this data into training and test sets after getting our attributes and labels. We'll do this by using Scikit-Learn's built-in train_test_split() method:"
      ]
    },
    {
      "cell_type": "code",
      "metadata": {
        "id": "sQc_5I-zz6ug"
      },
      "source": [
        "from sklearn.model_selection import train_test_split\r\n",
        "X_train, X_test, y_train, y_test = train_test_split(X, y, test_size=0.25, random_state=0) "
      ],
      "execution_count": null,
      "outputs": []
    },
    {
      "cell_type": "markdown",
      "metadata": {
        "id": "qDepqgJfMXOH"
      },
      "source": [
        "As we can see that both the training and test datasets are ready for training our model."
      ]
    },
    {
      "cell_type": "markdown",
      "metadata": {
        "id": "7gmc-zW5MlCN"
      },
      "source": [
        "## **5. Training the Model**\r\n",
        "Using simple linear regression as it involves just 2 variables."
      ]
    },
    {
      "cell_type": "code",
      "metadata": {
        "id": "AwgZZQ0j0cE1"
      },
      "source": [
        "from sklearn.linear_model import LinearRegression  \r\n",
        "model = LinearRegression()  \r\n",
        "model.fit(X_train, y_train) \r\n",
        "\r\n",
        "print(\"Training completed.\")"
      ],
      "execution_count": null,
      "outputs": []
    },
    {
      "cell_type": "code",
      "metadata": {
        "id": "p_V9Y2XGNVwp"
      },
      "source": [
        "print(\"Coefficient :\", model.coef_)\r\n",
        "print(\"Intercept :\", model.intercept_)"
      ],
      "execution_count": null,
      "outputs": []
    },
    {
      "cell_type": "code",
      "metadata": {
        "id": "0xXGoj0VM8Zt"
      },
      "source": [
        "# Plotting the regression line\r\n",
        "line = model.coef_*X+model.intercept_\r\n",
        "\r\n",
        "# Plotting for the test data\r\n",
        "plt.scatter(X, y)\r\n",
        "plt.plot(X, line, color=\"green\", label=\"Regression line\")\r\n",
        "plt.show()"
      ],
      "execution_count": null,
      "outputs": []
    },
    {
      "cell_type": "markdown",
      "metadata": {
        "id": "0ZXsXG6TPDNc"
      },
      "source": [
        "## **6. Making Predictions**\r\n",
        "Now model is trained, we can make predictions accordingly."
      ]
    },
    {
      "cell_type": "code",
      "metadata": {
        "id": "jK9v8NRpOBcr"
      },
      "source": [
        "y_pred = model.predict(X_test) # Predicting the scores"
      ],
      "execution_count": null,
      "outputs": []
    },
    {
      "cell_type": "code",
      "metadata": {
        "id": "Hped4dbKPeYe"
      },
      "source": [
        "# Comparing Actual vs Predicted Scores\r\n",
        "df = pd.DataFrame({'Actual': y_test, 'Predicted': y_pred})  \r\n",
        "df "
      ],
      "execution_count": null,
      "outputs": []
    },
    {
      "cell_type": "code",
      "metadata": {
        "id": "TaE6AUzdPzpe"
      },
      "source": [
        "# Testing with data given task i.e. 9.25hrs/day\r\n",
        "hours = 9.25\r\n",
        "result = np.array([hours])\r\n",
        "result = result.reshape(-1,1)\r\n",
        "own_pred = model.predict(result)\r\n",
        "print(\"No of Hours = {}\".format(hours))\r\n",
        "print(\"Predicted Score = {}\".format(own_pred[0]))"
      ],
      "execution_count": null,
      "outputs": []
    },
    {
      "cell_type": "markdown",
      "metadata": {
        "id": "BbeN5G21Q398"
      },
      "source": [
        "## **7. Evaluating the Model**\r\n",
        "The final step is to evaluate how accurate the model. It is basically used the performance of different alorithms perform on a particular dataset."
      ]
    },
    {
      "cell_type": "code",
      "metadata": {
        "id": "iI9uMw-CQN6L"
      },
      "source": [
        "from sklearn import metrics  \r\n",
        "print('Mean Absolute Error:', metrics.mean_absolute_error(y_test, y_pred)) \r\n",
        "print('Mean Squared Error:', metrics.mean_squared_error(y_test, y_pred)) \r\n",
        "print('Root Mean Squared Error:', np.sqrt(metrics.mean_absolute_error(y_test, y_pred)) )"
      ],
      "execution_count": null,
      "outputs": []
    },
    {
      "cell_type": "markdown",
      "metadata": {
        "id": "fSQ_zwUFSIq9"
      },
      "source": [
        "#**Thank You**"
      ]
    }
  ]
}